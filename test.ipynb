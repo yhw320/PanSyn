{
 "cells": [
  {
   "cell_type": "code",
   "execution_count": 2,
   "metadata": {
    "collapsed": true
   },
   "outputs": [
    {
     "data": {
      "text/plain": "True"
     },
     "execution_count": 2,
     "metadata": {},
     "output_type": "execute_result"
    }
   ],
   "source": [
    "\"r_1\" in \"SRR18579584_r_1.fq\""
   ]
  },
  {
   "cell_type": "code",
   "execution_count": 1,
   "outputs": [
    {
     "data": {
      "text/plain": "('./data', 'Pansyn_1.fq')"
     },
     "execution_count": 1,
     "metadata": {},
     "output_type": "execute_result"
    }
   ],
   "source": [
    "import os\n",
    "os.path.split(\"./data/Pansyn_1.fq\")"
   ],
   "metadata": {
    "collapsed": false
   }
  },
  {
   "cell_type": "code",
   "execution_count": 7,
   "outputs": [],
   "source": [
    "def pair_fastq_files(fastq_paths, pair_tags=('r_1','r_2'), err_msg='Could not pair FASTQ read files.'):\n",
    "\n",
    "  if len(fastq_paths) != len(set(fastq_paths)):\n",
    "    msg = '%s Repeat file path present.'\n",
    "    print(msg % (err_msg))\n",
    "\n",
    "  t1, t2 = pair_tags\n",
    "\n",
    "  paths_1 = []\n",
    "  paths_2 = []\n",
    "\n",
    "  for path in fastq_paths:\n",
    "    dir_name, base_name = os.path.split(path)\n",
    "\n",
    "    if (t1 in base_name) and (t2 in base_name):\n",
    "      msg = '%s Tags \"%s\" and \"%s\" are ambiguous in file %s'\n",
    "      print(msg % (err_msg, t1, t2, base_name))\n",
    "\n",
    "    elif t1 in base_name:\n",
    "      paths_1.append((path, dir_name, base_name))\n",
    "\n",
    "    elif t2 in base_name:\n",
    "      paths_2.append((path, dir_name, base_name))\n",
    "\n",
    "    else:\n",
    "      msg = '%s File name %s does not contain tag \"%s\" or \"%s\"'\n",
    "      print(msg % (err_msg, base_name, t1, t2))\n",
    "pair_fastq_files(['SRR18579584r_1.fq', 'SRR18579584_r_2.fq'])"
   ],
   "metadata": {
    "collapsed": false
   }
  },
  {
   "cell_type": "code",
   "execution_count": null,
   "outputs": [],
   "source": [],
   "metadata": {
    "collapsed": false
   }
  }
 ],
 "metadata": {
  "kernelspec": {
   "display_name": "Python 3",
   "language": "python",
   "name": "python3"
  },
  "language_info": {
   "codemirror_mode": {
    "name": "ipython",
    "version": 2
   },
   "file_extension": ".py",
   "mimetype": "text/x-python",
   "name": "python",
   "nbconvert_exporter": "python",
   "pygments_lexer": "ipython2",
   "version": "2.7.6"
  }
 },
 "nbformat": 4,
 "nbformat_minor": 0
}
